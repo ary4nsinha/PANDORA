{
 "cells": [
  {
   "cell_type": "code",
   "execution_count": null,
   "metadata": {},
   "outputs": [],
   "source": [
    "import cv2\n",
    "import numpy as np\n",
    "import matplotlib.pyplot as plt\n",
    "%matplotlib inline\n",
    "import pytesseract\n"
   ]
  },
  {
   "cell_type": "code",
   "execution_count": null,
   "metadata": {},
   "outputs": [],
   "source": [
    "def display_img(img):\n",
    "    fig = plt.figure(figsize=(12, 10))\n",
    "    ax = fig.add_subplot(111)\n",
    "    ax.imshow(img, cmap='gray')"
   ]
  },
  {
   "cell_type": "code",
   "execution_count": null,
   "metadata": {},
   "outputs": [],
   "source": [
    "plate_cascade = cv2.CascadeClassifier(r'C:\\Users\\worka\\Downloads\\pandora-version-1\\PANDORA\\haarcascade_russian_plate_number.xml')"
   ]
  },
  {
   "cell_type": "code",
   "execution_count": null,
   "metadata": {},
   "outputs": [],
   "source": [
    "def detect_plate(img):\n",
    "\n",
    "    plate_img = img.copy()\n",
    "    plate_copy = plate.copy()\n",
    "\n",
    "    plate_rects = plate_cascade.detectMultiScale(plate_img)\n",
    "\n",
    "    for (x,y,w,h) in plate_rects:\n",
    "        cv2.rectangle(plate_copy, (x,y), (x+w,y+h), (0,255,0), 15)\n",
    "\n",
    "\n",
    "    return plate_copy"
   ]
  },
  {
   "cell_type": "code",
   "execution_count": null,
   "metadata": {},
   "outputs": [],
   "source": [
    "plate = cv2.imread('assets/numberPlate6.jpg')\n",
    "plate = cv2.cvtColor(plate, cv2.COLOR_BGR2GRAY)\n",
    "display_img(plate)"
   ]
  },
  {
   "cell_type": "code",
   "execution_count": null,
   "metadata": {},
   "outputs": [],
   "source": [
    "blurred = cv2.blur(plate, (10,10))\n",
    "display_img(blurred)"
   ]
  },
  {
   "cell_type": "code",
   "execution_count": null,
   "metadata": {},
   "outputs": [],
   "source": [
    "result = detect_plate(blurred)\n",
    "display_img(result)"
   ]
  },
  {
   "cell_type": "code",
   "execution_count": null,
   "metadata": {},
   "outputs": [],
   "source": [
    "# SAMPLE PROGRAM TO FIND THE REIGON OF INTEREST\n",
    "def find_roi(img):\n",
    "\n",
    "\n",
    "    plate_img = img.copy()\n",
    "    plate_copy2 = plate.copy()\n",
    "\n",
    "    plate_rects = plate_cascade.detectMultiScale(plate_img)\n",
    "\n",
    "    for (x,y,w,h) in plate_rects:\n",
    "        roi = plate_copy2[y:y+h, x:x+w]\n",
    "        #cv2.rectangle(plate_img, (x,y), (x+w,y+h), (255,255,255), 15)\n",
    "\n",
    "\n",
    "    return roi"
   ]
  },
  {
   "cell_type": "code",
   "execution_count": null,
   "metadata": {},
   "outputs": [],
   "source": [
    "region = find_roi(blurred)\n",
    "plt.imshow(region, cmap='gray')"
   ]
  },
  {
   "cell_type": "code",
   "execution_count": null,
   "metadata": {},
   "outputs": [],
   "source": [
    "kernel1 = np.ones((2, 2), np.uint8)\n",
    "open = cv2.morphologyEx(region, cv2.MORPH_OPEN, kernel1) #remove noise in background\n",
    "erode = cv2.morphologyEx(open, cv2.MORPH_ERODE, kernel1) #thin the text\n",
    "kernel2 = np.ones((1, 1), np.uint8)\n",
    "dilate = cv2.morphologyEx(open, cv2.MORPH_DILATE, kernel2) #thicken\n",
    "blurredroi = cv2.blur(dilate, (1,1)) \n",
    "plt.imshow(blurredroi, cmap='gray')"
   ]
  },
  {
   "cell_type": "code",
   "execution_count": null,
   "metadata": {},
   "outputs": [],
   "source": [
    "def ocr_with_preprocessing(image):\n",
    "    # Use adaptive thresholding to convert the grayscale image to binary\n",
    "    _, binary = cv2.threshold(image, 200, 255, cv2.THRESH_BINARY)\n",
    "\n",
    "    # Pass the processed image to Tesseract\n",
    "    text = pytesseract.image_to_string(binary)\n",
    "\n",
    "    return text"
   ]
  },
  {
   "cell_type": "code",
   "execution_count": null,
   "metadata": {},
   "outputs": [],
   "source": [
    "def removeSpecialCharacter(s):\n",
    "    result = ''\n",
    "    for char in s:\n",
    "        # Checking if the character is an alphabet letter, a digit, or a space\n",
    "        if char.isalpha() or char.isdigit() or char.isspace():\n",
    "            result += char\n",
    "\n",
    "    return result"
   ]
  },
  {
   "cell_type": "code",
   "execution_count": null,
   "metadata": {},
   "outputs": [],
   "source": [
    "extracted_text = ocr_with_preprocessing(blurredroi)\n",
    "extracted_text = removeSpecialCharacter(extracted_text)"
   ]
  },
  {
   "cell_type": "code",
   "execution_count": null,
   "metadata": {},
   "outputs": [],
   "source": [
    "print(extracted_text)"
   ]
  },
  {
   "cell_type": "code",
   "execution_count": null,
   "metadata": {},
   "outputs": [],
   "source": []
  }
 ],
 "metadata": {
  "kernelspec": {
   "display_name": "Python 3",
   "language": "python",
   "name": "python3"
  },
  "language_info": {
   "codemirror_mode": {
    "name": "ipython",
    "version": 3
   },
   "file_extension": ".py",
   "mimetype": "text/x-python",
   "name": "python",
   "nbconvert_exporter": "python",
   "pygments_lexer": "ipython3",
   "version": "3.12.2"
  }
 },
 "nbformat": 4,
 "nbformat_minor": 2
}
