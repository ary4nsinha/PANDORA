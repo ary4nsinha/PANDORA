{
 "cells": [
  {
   "cell_type": "markdown",
   "metadata": {},
   "source": [
    "Importing all important modules"
   ]
  },
  {
   "cell_type": "code",
   "execution_count": null,
   "metadata": {},
   "outputs": [],
   "source": [
    "import cv2\n",
    "from matplotlib import pyplot as plt\n",
    "import imutils\n",
    "import easyocr\n",
    "import numpy as np \n",
    "import os \n",
    "import pandas as pd \n",
    "import IPython.display as ipd\n",
    "import pytesseract\n",
    "import PIL.Image\n",
    "import datetime\n",
    "import json"
   ]
  },
  {
   "cell_type": "markdown",
   "metadata": {},
   "source": [
    "Function to save the identified number plates into a json file"
   ]
  },
  {
   "cell_type": "code",
   "execution_count": null,
   "metadata": {},
   "outputs": [],
   "source": [
    "def save_to_dictionary(text):\n",
    "    timestamp = datetime.datetime.now().strftime(\"%Y-%m-%d %H:%M:%S\")\n",
    "    data = {\"timestamp\": timestamp, \"text\": text}\n",
    "\n",
    "    # Load existing data or create an empty dictionary\n",
    "    try:\n",
    "        with open(\"data.json\", \"r\") as file:\n",
    "            existing_data = json.load(file)\n",
    "    except FileNotFoundError:\n",
    "        existing_data = {}\n",
    "\n",
    "    # Update the dictionary with new data\n",
    "    existing_data.update({timestamp: data})\n",
    "\n",
    "    # Save the updated dictionary to a file\n",
    "    with open(\"data.json\", \"w\") as file:\n",
    "        json.dump(existing_data, file, indent=2)"
   ]
  },
  {
   "cell_type": "markdown",
   "metadata": {},
   "source": [
    "Frame Capture"
   ]
  },
  {
   "cell_type": "code",
   "execution_count": null,
   "metadata": {},
   "outputs": [],
   "source": [
    "vid_path = \"car3.mp4\"\n",
    "videoCapture = cv2.VideoCapture(vid_path)\n",
    "\n",
    "# Set the video capture to 3 seconds (3000 milliseconds)\n",
    "target_time_ms = 6000\n",
    "videoCapture.set(cv2.CAP_PROP_POS_MSEC, target_time_ms)\n",
    "\n",
    "ret, frame = videoCapture.read()\n",
    "\n",
    "if ret:\n",
    "    # Display the frame using plt.imshow\n",
    "    plt.imshow(cv2.cvtColor(frame, cv2.COLOR_BGR2RGB))\n",
    "    plt.title(\"Captured Frame\")\n",
    "    plt.show()\n",
    "else:\n",
    "    print(\"Failed to capture the frame.\")\n",
    "\n",
    "videoCapture.release()\n",
    "cv2.destroyAllWindows()"
   ]
  },
  {
   "cell_type": "markdown",
   "metadata": {},
   "source": [
    "Thresholding the image to improve quality"
   ]
  },
  {
   "cell_type": "code",
   "execution_count": null,
   "metadata": {},
   "outputs": [],
   "source": [
    "img_path = \"assets/numberPlate4.jpg\"\n",
    "img = cv2.imread(img_path)\n",
    "\n",
    "if img is None:\n",
    "    print(f\"Error: Unable to load the image at '{img_path}'. Make sure the file exists.\")\n",
    "else:\n",
    "    img_gray = cv2.cvtColor(img, cv2.COLOR_BGR2GRAY)\n",
    "    img_resized = cv2.resize(img, (560, 900))\n",
    "    _, result = cv2.threshold(img_gray, 100, 255, cv2.THRESH_BINARY)\n",
    "\n",
    "    # Store the thresholded and updated image in the variable text_detection_img\n",
    "    text_detection_img = result\n",
    "\n",
    "    # Display only the thresholded result\n",
    "    plt.imshow(text_detection_img, cmap='gray')\n",
    "    plt.title('Thresholded Result')\n",
    "    plt.show()\n",
    "\n"
   ]
  },
  {
   "cell_type": "markdown",
   "metadata": {},
   "source": [
    "OCR for reading number plates from the images"
   ]
  },
  {
   "cell_type": "code",
   "execution_count": null,
   "metadata": {},
   "outputs": [],
   "source": [
    "myconfig = r\"--psm 6 --oem 3\"\n",
    "img_path = \"assets/numberPlate4.jpg\"\n",
    "img = plt.imread(img_path)  # Use plt.imread() to read image data\n",
    "text = pytesseract.image_to_string(PIL.Image.open(img_path), config=myconfig)\n",
    "print(text)\n",
    "save_to_dictionary(text)"
   ]
  }
 ],
 "metadata": {
  "kernelspec": {
   "display_name": "Python 3",
   "language": "python",
   "name": "python3"
  },
  "language_info": {
   "codemirror_mode": {
    "name": "ipython",
    "version": 3
   },
   "file_extension": ".py",
   "mimetype": "text/x-python",
   "name": "python",
   "nbconvert_exporter": "python",
   "pygments_lexer": "ipython3",
   "version": "3.10.11"
  }
 },
 "nbformat": 4,
 "nbformat_minor": 2
}
