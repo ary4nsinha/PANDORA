{
 "cells": [
  {
   "cell_type": "code",
   "execution_count": 1,
   "metadata": {},
   "outputs": [],
   "source": [
    "import matplotlib.pyplot as plt\n",
    "import os \n",
    "import pytesseract\n",
    "import numpy as np \n",
    "import cv2\n",
    "import pandas as pd \n",
    "import IPython.display as ipd"
   ]
  },
  {
   "cell_type": "code",
   "execution_count": 2,
   "metadata": {},
   "outputs": [
    {
     "name": "stdout",
     "output_type": "stream",
     "text": [
      "End of video.\n"
     ]
    }
   ],
   "source": [
    "plate_cascade = cv2.CascadeClassifier(cv2.data.haarcascades + 'haarcascade_russian_plate_number.xml')\n",
    "\n",
    "video_capture = cv2.VideoCapture('car2.mp4')  #car.mp4 will have to be changed with live video feed \n",
    "\n",
    "number_plate_detection_img = None #the img used to read the number pl8\n",
    "\n",
    "if not video_capture.isOpened(): #just to make sure if the video started or else showing an error msg to check if problem was with video capture or ahead\n",
    "    print(\"Error: Could not open video capture.\")\n",
    "else:\n",
    "    while True:\n",
    "        ret, frame = video_capture.read()\n",
    "        if not ret:\n",
    "            print(\"End of video.\")\n",
    "            break\n",
    "\n",
    "        gray_frame = cv2.cvtColor(frame, cv2.COLOR_BGR2GRAY) #turn to grray scale \n",
    "\n",
    "        # Detect license plates in the frame\n",
    "        plates = plate_cascade.detectMultiScale(gray_frame, scaleFactor=1.1, minNeighbors=5, minSize=(30, 30))\n",
    "\n",
    "        # If license plate(s) are detected, store the entire frame\n",
    "        if len(plates) > 0:\n",
    "            number_plate_detection_img = frame\n",
    "\n",
    "        # Display the original frame\n",
    "        cv2.imshow('Video', frame)\n",
    "\n",
    "        # Check for the 'q' key to quit the video display\n",
    "        if cv2.waitKey(1) & 0xFF == ord('q'):\n",
    "            break\n",
    "\n",
    "    video_capture.release()\n",
    "    cv2.destroyAllWindows()\n",
    "\n",
    "if number_plate_detection_img is not None: #is not none moght throw you off but its just a check before showing the captured frame\n",
    "    cv2.imshow('Number Plate Detection', number_plate_detection_img)\n",
    "    cv2.waitKey(0)\n",
    "    cv2.destroyAllWindows()\n",
    "\n",
    "    #we will run your number pl8 reading part and obj detection scrupt on the number_plate_detection_img"
   ]
  }
 ],
 "metadata": {
  "kernelspec": {
   "display_name": "Python 3",
   "language": "python",
   "name": "python3"
  },
  "language_info": {
   "codemirror_mode": {
    "name": "ipython",
    "version": 3
   },
   "file_extension": ".py",
   "mimetype": "text/x-python",
   "name": "python",
   "nbconvert_exporter": "python",
   "pygments_lexer": "ipython3",
   "version": "3.10.11"
  },
  "orig_nbformat": 4
 },
 "nbformat": 4,
 "nbformat_minor": 2
}
